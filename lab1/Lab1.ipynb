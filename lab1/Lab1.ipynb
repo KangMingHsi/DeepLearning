{
 "cells": [
  {
   "cell_type": "code",
   "execution_count": 25,
   "metadata": {
    "collapsed": true
   },
   "outputs": [],
   "source": [
    "import numpy as np\n",
    "import matplotlib.pyplot as plt\n",
    "import tensorflow as tf\n",
    "import PIL\n",
    "from scipy.misc import imread"
   ]
  },
  {
   "cell_type": "code",
   "execution_count": 132,
   "metadata": {},
   "outputs": [
    {
     "name": "stdout",
     "output_type": "stream",
     "text": [
      "10354\n"
     ]
    }
   ],
   "source": [
    "img = imread('kanna.jpg')\n",
    "newSize = img.shape[0] * img.shape[1] * img.shape[2]\n",
    "\n",
    "x = np.arange(256)\n",
    "idx = np.reshape(img, (newSize, 1))\n",
    "\n",
    "hist = np.histogram(idx, bins=x)\n",
    "\n",
    "y = hist[0][254];\n",
    "\n",
    "print(y)\n",
    "\n",
    "#y = hist[0, x]\n",
    "\n",
    "#plt.plot(x, y)\n",
    "#plt.show()"
   ]
  },
  {
   "cell_type": "code",
   "execution_count": null,
   "metadata": {
    "collapsed": true
   },
   "outputs": [],
   "source": []
  }
 ],
 "metadata": {
  "kernelspec": {
   "display_name": "Python 3",
   "language": "python",
   "name": "python3"
  },
  "language_info": {
   "codemirror_mode": {
    "name": "ipython",
    "version": 3
   },
   "file_extension": ".py",
   "mimetype": "text/x-python",
   "name": "python",
   "nbconvert_exporter": "python",
   "pygments_lexer": "ipython3",
   "version": "3.6.1"
  }
 },
 "nbformat": 4,
 "nbformat_minor": 2
}
