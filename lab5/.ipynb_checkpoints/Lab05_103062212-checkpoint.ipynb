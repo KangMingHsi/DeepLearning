{
 "cells": [
  {
   "cell_type": "code",
   "execution_count": 121,
   "metadata": {},
   "outputs": [],
   "source": [
    "import pandas as pd\n",
    "import numpy as np\n",
    "from sklearn.metrics import mean_squared_error\n",
    "from sklearn.preprocessing import StandardScaler\n",
    "from sklearn.learning_curve import learning_curve\n",
    "from sklearn.model_selection import train_test_split\n",
    "from sklearn.linear_model import Ridge\n",
    "from sklearn.linear_model import Lasso\n",
    "from sklearn.ensemble import RandomForestClassifier\n",
    "from sklearn.metrics import accuracy_score\n",
    "from sklearn.linear_model import RidgeClassifier"
   ]
  },
  {
   "cell_type": "code",
   "execution_count": 122,
   "metadata": {
    "collapsed": true
   },
   "outputs": [],
   "source": [
    "def pd2np(df):\n",
    "  return df.as_matrix()"
   ]
  },
  {
   "cell_type": "code",
   "execution_count": 123,
   "metadata": {},
   "outputs": [],
   "source": [
    "X_train = pd2np(pd.read_csv('./data/nba/X_train.csv'))\n",
    "y_train = pd2np(pd.read_csv('./data/nba/y_train.csv'))\n",
    "X_test = pd2np(pd.read_csv('./data/nba/X_test.csv'))\n",
    "\n",
    "sc = StandardScaler()\n",
    "X_train = sc.fit_transform(X_train)\n",
    "X_train, X_valid, y_train, y_valid = train_test_split(X_train, y_train, test_size=0.3, random_state=1)\n",
    "\n"
   ]
  },
  {
   "cell_type": "code",
   "execution_count": 128,
   "metadata": {
    "scrolled": false
   },
   "outputs": [
    {
     "name": "stderr",
     "output_type": "stream",
     "text": [
      "/Users/seankang/anaconda3/envs/tensorflow/lib/python3.6/site-packages/ipykernel_launcher.py:11: UserWarning: With alpha=0, this algorithm does not converge well. You are advised to use the LinearRegression estimator\n",
      "  # This is added back by InteractiveShellApp.init_path()\n",
      "/Users/seankang/anaconda3/envs/tensorflow/lib/python3.6/site-packages/sklearn/linear_model/coordinate_descent.py:477: UserWarning: Coordinate descent with no regularization may lead to unexpected results and is discouraged.\n",
      "  positive)\n"
     ]
    },
    {
     "name": "stdout",
     "output_type": "stream",
     "text": [
      "[ 0.48029003  0.36326685  0.60879194 ...,  0.46049836  0.32467429\n",
      "  0.58049891]\n",
      "[ 0.45778238  0.45778238  0.45778238 ...,  0.45778238  0.45778238\n",
      "  0.45778238]\n",
      "[ 0.45778238  0.45778238  0.45778238 ...,  0.45778238  0.45778238\n",
      "  0.45778238]\n",
      "[ 0.45778238  0.45778238  0.45778238 ...,  0.45778238  0.45778238\n",
      "  0.45778238]\n",
      "[ 0.45778238  0.45778238  0.45778238 ...,  0.45778238  0.45778238\n",
      "  0.45778238]\n",
      "[ 0.45778238  0.45778238  0.45778238 ...,  0.45778238  0.45778238\n",
      "  0.45778238]\n",
      "[ 0.45778238  0.45778238  0.45778238 ...,  0.45778238  0.45778238\n",
      "  0.45778238]\n"
     ]
    },
    {
     "name": "stderr",
     "output_type": "stream",
     "text": [
      "/Users/seankang/anaconda3/envs/tensorflow/lib/python3.6/site-packages/sklearn/linear_model/coordinate_descent.py:491: ConvergenceWarning: Objective did not converge. You might want to increase the number of iterations. Fitting data with very small alpha may cause precision problems.\n",
      "  ConvergenceWarning)\n"
     ]
    }
   ],
   "source": []
  },
  {
   "cell_type": "code",
   "execution_count": 125,
   "metadata": {},
   "outputs": [
    {
     "name": "stderr",
     "output_type": "stream",
     "text": [
      "/Users/seankang/anaconda3/envs/tensorflow/lib/python3.6/site-packages/sklearn/linear_model/stochastic_gradient.py:84: FutureWarning: max_iter and tol parameters have been added in <class 'sklearn.linear_model.perceptron.Perceptron'> in 0.19. If both are left unset, they default to max_iter=5 and tol=None. If tol is not None, max_iter defaults to max_iter=1000. From 0.21, default max_iter will be 1000, and default tol will be 1e-3.\n",
      "  \"and default tol will be 1e-3.\" % type(self), FutureWarning)\n",
      "/Users/seankang/anaconda3/envs/tensorflow/lib/python3.6/site-packages/sklearn/utils/validation.py:547: DataConversionWarning: A column-vector y was passed when a 1d array was expected. Please change the shape of y to (n_samples, ), for example using ravel().\n",
      "  y = column_or_1d(y, warn=True)\n"
     ]
    },
    {
     "name": "stdout",
     "output_type": "stream",
     "text": [
      "[0.57089887946781537, 0.55012404918345648, 0.55012404918345648, 0.55012404918345648, 0.55012404918345648, 0.55012404918345648, 0.55012404918345648]\n",
      "[0.57239185750636135, 0.55127226463104329, 0.55127226463104329, 0.55127226463104329, 0.55127226463104329, 0.55127226463104329, 0.55127226463104329]\n"
     ]
    }
   ],
   "source": [
    "from sklearn.linear_model import Perceptron\n",
    "\n",
    "candidate = [0, 1, 10, 100, 1000, 10000, 50000]\n",
    "\n",
    "accuracy_train = []\n",
    "accuracy_valid = []\n",
    "for a in candidate:\n",
    "    \n",
    "    perc = Perceptron(penalty='l2', alpha=a)\n",
    "    perc.fit(X_train, y_train)\n",
    "    \n",
    "    y_train_pred = perc.predict(X_train)\n",
    "    y_valid_pred = perc.predict(X_valid)\n",
    "    \n",
    "    accuracy_train.append(accuracy_score(y_train, y_train_pred))\n",
    "    accuracy_valid.append(accuracy_score(y_valid, y_valid_pred))\n",
    "    \n",
    "print(accuracy_train)\n",
    "print(accuracy_valid)"
   ]
  },
  {
   "cell_type": "code",
   "execution_count": 126,
   "metadata": {},
   "outputs": [
    {
     "name": "stderr",
     "output_type": "stream",
     "text": [
      "/Users/seankang/anaconda3/envs/tensorflow/lib/python3.6/site-packages/ipykernel_launcher.py:8: DataConversionWarning: A column-vector y was passed when a 1d array was expected. Please change the shape of y to (n_samples,), for example using ravel().\n",
      "  \n"
     ]
    },
    {
     "name": "stdout",
     "output_type": "stream",
     "text": [
      "Train Accuracy: 0.607\n",
      "Valid Accuracy: 0.610\n"
     ]
    }
   ],
   "source": [
    "# RandomForest\n",
    "forest = RandomForestClassifier(criterion='entropy',\n",
    "                                n_estimators=10, \n",
    "                                max_depth=3,\n",
    "                                random_state=1,\n",
    "                                n_jobs=2)\n",
    "\n",
    "forest.fit(X_train, y_train)\n",
    "y_train_pred = rg.predict(X_train)\n",
    "y_valid_pred = rg.predict(X_valid)\n",
    "\n",
    "print('Train Accuracy: %.3f' % accuracy_score(y_train, y_train_pred))\n",
    "print('Valid Accuracy: %.3f' % accuracy_score(y_valid, y_valid_pred))"
   ]
  },
  {
   "cell_type": "code",
   "execution_count": 127,
   "metadata": {},
   "outputs": [
    {
     "name": "stdout",
     "output_type": "stream",
     "text": [
      "[0.60661413888055837, 0.60658687532375477, 0.60658687532375477, 0.60647782109654025, 0.60721393713023797, 0.61015840126502907, 0.60748657269827422]\n",
      "[0.60750636132315516, 0.60750636132315516, 0.6075699745547074, 0.60750636132315516, 0.60737913486005091, 0.60998727735368952, 0.61005089058524176]\n"
     ]
    },
    {
     "name": "stderr",
     "output_type": "stream",
     "text": [
      "/Users/seankang/anaconda3/envs/tensorflow/lib/python3.6/site-packages/sklearn/linear_model/ridge.py:810: DataConversionWarning: A column-vector y was passed when a 1d array was expected. Please change the shape of y to (n_samples, ), for example using ravel().\n",
      "  y = column_or_1d(y, warn=True)\n"
     ]
    }
   ],
   "source": [
    "# RidgeClassifier\n",
    "\n",
    "candidate = [0, 1, 10, 100, 1000, 10000, 50000]\n",
    "accuracy_train = []\n",
    "accuracy_valid = []\n",
    "for a in candidate:\n",
    "    \n",
    "    rg = RidgeClassifier(alpha=a)\n",
    "    rg.fit(X_train, y_train)\n",
    "    \n",
    "    y_train_pred = rg.predict(X_train)\n",
    "    y_valid_pred = rg.predict(X_valid)\n",
    "    \n",
    "    accuracy_train.append(accuracy_score(y_train, y_train_pred))\n",
    "    accuracy_valid.append(accuracy_score(y_valid, y_valid_pred))\n",
    "\n",
    "print(accuracy_train)\n",
    "print(accuracy_valid)"
   ]
  },
  {
   "cell_type": "code",
   "execution_count": null,
   "metadata": {},
   "outputs": [],
   "source": [
    "train_mean = np.mean(train_scores, axis=1)\n",
    "train_std = np.std(train_scores, axis=1)\n",
    "test_mean = np.mean(test_scores, axis=1)\n",
    "test_std = np.std(test_scores, axis=1)\n",
    "\n",
    "plt.plot(\n",
    "  train_sizes,\n",
    "  train_mean,\n",
    "  color='blue',\n",
    "  marker='o',\n",
    "  markersize=5,\n",
    "  label='Training error')\n",
    "plt.fill_between(\n",
    "  train_sizes,\n",
    "  train_mean + train_std,\n",
    "  train_mean - train_std,\n",
    "  alpha=0.15,\n",
    "  color='blue')\n",
    "\n",
    "plt.plot(\n",
    "  train_sizes,\n",
    "  test_mean,\n",
    "  color='green',\n",
    "  linestyle='--',\n",
    "  marker='s',\n",
    "  markersize=5,\n",
    "  label='Testing error')\n",
    "plt.fill_between(\n",
    "  train_sizes,\n",
    "  test_mean + test_std,\n",
    "  test_mean - test_std,\n",
    "  alpha=0.15,\n",
    "  color='green')\n",
    "\n",
    "plt.hlines(y=sigma, xmin=0, xmax=80, color='red', linewidth=2, linestyle='--')\n",
    "\n",
    "plt.title('Degree: %d' % d)\n",
    "plt.grid()\n",
    "plt.xlabel('Number of training samples')\n",
    "plt.ylabel('MSE')\n",
    "plt.legend(loc='upper right')\n",
    "plt.ylim([0, 3])\n",
    "plt.tight_layout()\n",
    "plt.savefig('./output/fig-learning-curve-%d.png' % d, dpi=300)\n",
    "plt.show()"
   ]
  },
  {
   "cell_type": "code",
   "execution_count": 6,
   "metadata": {
    "collapsed": true
   },
   "outputs": [],
   "source": []
  },
  {
   "cell_type": "code",
   "execution_count": 7,
   "metadata": {
    "collapsed": true
   },
   "outputs": [],
   "source": []
  },
  {
   "cell_type": "code",
   "execution_count": 8,
   "metadata": {},
   "outputs": [
    {
     "name": "stdout",
     "output_type": "stream",
     "text": [
      "<class 'numpy.ndarray'>\n",
      "(52399, 8)\n"
     ]
    }
   ],
   "source": []
  },
  {
   "cell_type": "code",
   "execution_count": null,
   "metadata": {
    "collapsed": true
   },
   "outputs": [],
   "source": []
  }
 ],
 "metadata": {
  "kernelspec": {
   "display_name": "Python 3",
   "language": "python",
   "name": "python3"
  },
  "language_info": {
   "codemirror_mode": {
    "name": "ipython",
    "version": 3
   },
   "file_extension": ".py",
   "mimetype": "text/x-python",
   "name": "python",
   "nbconvert_exporter": "python",
   "pygments_lexer": "ipython3",
   "version": "3.6.1"
  }
 },
 "nbformat": 4,
 "nbformat_minor": 2
}
