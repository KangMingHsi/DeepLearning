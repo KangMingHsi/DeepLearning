{
 "cells": [
  {
   "cell_type": "code",
   "execution_count": 1,
   "metadata": {
    "collapsed": true
   },
   "outputs": [],
   "source": [
    "from IPython.display import Image\n",
    "from IPython.display import display\n",
    "import pandas as pd\n",
    "import numpy as np\n",
    "import matplotlib.pyplot as plt\n",
    "\n",
    "# inline plotting instead of popping out\n",
    "%matplotlib inline\n",
    "\n",
    "# load utility classes/functions that has been taught in previous labs\n",
    "# e.g., plot_decision_regions()\n",
    "import os, sys\n",
    "module_path = os.path.abspath(os.path.join('.'))\n",
    "sys.path.append(module_path)\n",
    "from lib import *\n",
    "\n",
    "from sklearn.preprocessing import OneHotEncoder\n",
    "from sklearn.preprocessing import Imputer\n",
    "from sklearn.preprocessing import LabelEncoder\n",
    "from sklearn.model_selection import GridSearchCV\n",
    "from sklearn.svm import SVC\n",
    "from sklearn.neighbors import KNeighborsClassifier\n",
    "from sklearn.preprocessing import StandardScaler"
   ]
  },
  {
   "cell_type": "code",
   "execution_count": 7,
   "metadata": {
    "collapsed": true
   },
   "outputs": [],
   "source": [
    "from sklearn.model_selection import train_test_split\n",
    "\n",
    "data = pd.read_csv('https://archive.ics.uci.edu/ml/machine-learning-databases/mushroom/agaricus-lepiota.data', header=None, sep=',', engine='python')\n",
    "data = data.sample(n=2000, random_state=0)\n",
    "\n",
    "catego_le = LabelEncoder()\n",
    "\n",
    "catego_features = []\n",
    "num_values = []\n",
    "\n",
    "label_le = LabelEncoder()\n",
    "data[0] = label_le.fit_transform(data[0].values)\n",
    "\n",
    "for i in range(22):\n",
    "    catego_features.append(i);\n",
    "    data[i+1] = catego_le.fit_transform(data[i+1].values)\n",
    "    classes_list = catego_le.classes_.tolist()\n",
    "    \n",
    "    # store the total number of values\n",
    "    num_values.append(len(classes_list))\n",
    "    # replace '?' with 'NaN'\n",
    "    if '?' in classes_list:\n",
    "        idx = classes_list.index('?')\n",
    "        data[i] = data[i].replace(idx, np.nan)\n",
    "\n",
    "\n",
    "X = data.iloc[:, 1:]  # The first to second-last columns are the features\n",
    "y = data.iloc[:, 0]   # The last column is the ground-truth label\n",
    "\n",
    "X_train, X_test, y_train, y_test = train_test_split(\n",
    "    X, y, test_size=0.2, random_state=0)"
   ]
  },
  {
   "cell_type": "code",
   "execution_count": 8,
   "metadata": {},
   "outputs": [
    {
     "name": "stdout",
     "output_type": "stream",
     "text": [
      "[KNN]\n",
      "Misclassified samples: 6\n",
      "Accuracy: 0.9850\n"
     ]
    }
   ],
   "source": [
    "from sklearn.pipeline import Pipeline\n",
    "from sklearn.metrics import accuracy_score\n",
    "\n",
    "# define pipeline with an arbitrary number of transformer in a tuple array\n",
    "pipe_knn = Pipeline([('imr', Imputer(missing_values='NaN', strategy='most_frequent', axis=0)),\n",
    "                     ('scl', StandardScaler()),\n",
    "                     ('clf', KNeighborsClassifier(n_neighbors=10, p=3, metric='minkowski'))])\n",
    "\n",
    "pipe_svm = Pipeline([('imr', Imputer(missing_values='NaN', strategy='most_frequent', axis=0)),\n",
    "                     ('scl', StandardScaler()),\n",
    "                     ('clf', SVC(kernel='rbf', random_state=0))])\n",
    "\n",
    "# use the pipeline model to train\n",
    "pipe_knn.fit(X_train, y_train)\n",
    "y_pred = pipe_knn.predict(X_test)\n",
    "print('[KNN]')\n",
    "print('Misclassified samples: %d' % (y_test != y_pred).sum())\n",
    "print('Accuracy: %.4f' % accuracy_score(y_test, y_pred))\n"
   ]
  },
  {
   "cell_type": "code",
   "execution_count": 9,
   "metadata": {},
   "outputs": [
    {
     "name": "stdout",
     "output_type": "stream",
     "text": [
      "[SVC: grid search]\n",
      "Validation accuracy: 0.997\n",
      "{'clf__C': 100.0, 'clf__gamma': 0.01, 'clf__kernel': 'rbf'}\n",
      "Test accuracy: 1.000\n"
     ]
    }
   ],
   "source": [
    "param_gamma = [0.0001, 0.001, 0.01, 0.1, 1.0]\n",
    "param_C = [0.1, 1.0, 10.0, 100.0]\n",
    "\n",
    "# here you can set parameter for different steps \n",
    "# by adding two underlines (__) between step name and parameter name\n",
    "param_grid = [{'clf__C': param_C, \n",
    "               'clf__kernel': ['linear']},\n",
    "              {'clf__C': param_C, \n",
    "               'clf__gamma': param_gamma, \n",
    "               'clf__kernel': ['rbf']}]\n",
    "\n",
    "# set pipe_svm as the estimator\n",
    "gs = GridSearchCV(estimator=pipe_svm, \n",
    "                  param_grid=param_grid, \n",
    "                  scoring='accuracy')\n",
    "\n",
    "gs = gs.fit(X_train, y_train)\n",
    "print('[SVC: grid search]')\n",
    "print('Validation accuracy: %.3f' % gs.best_score_)\n",
    "print(gs.best_params_)\n",
    "\n",
    "clf = gs.best_estimator_\n",
    "clf.fit(X_train, y_train)\n",
    "print('Test accuracy: %.3f' % clf.score(X_test, y_test))"
   ]
  },
  {
   "cell_type": "code",
   "execution_count": null,
   "metadata": {
    "collapsed": true
   },
   "outputs": [],
   "source": [
    "# 將資料？用imputer改善\n",
    "# 將文字資料改成改成用數字表示\n",
    "# 使用oneHot"
   ]
  }
 ],
 "metadata": {
  "kernelspec": {
   "display_name": "Python 3",
   "language": "python",
   "name": "python3"
  },
  "language_info": {
   "codemirror_mode": {
    "name": "ipython",
    "version": 3
   },
   "file_extension": ".py",
   "mimetype": "text/x-python",
   "name": "python",
   "nbconvert_exporter": "python",
   "pygments_lexer": "ipython3",
   "version": "3.6.1"
  }
 },
 "nbformat": 4,
 "nbformat_minor": 2
}
